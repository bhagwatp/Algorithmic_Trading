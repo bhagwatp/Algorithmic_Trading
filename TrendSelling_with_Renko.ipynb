{
 "cells": [
  {
   "cell_type": "code",
   "execution_count": 3,
   "metadata": {},
   "outputs": [],
   "source": [
    "import pandas as pd\n",
    "import datetime\n",
    "from alice_blue import *"
   ]
  },
  {
   "cell_type": "code",
   "execution_count": 4,
   "metadata": {},
   "outputs": [],
   "source": [
    "#Get an access token\n",
    "access_token = AliceBlue.login_and_get_access_token(username='AB063479', password='Ajay143', \n",
    "                                                    twoFA='act',\n",
    "                                                    api_secret=\n",
    "                                                    'V9TWAT51FBBN5MKTFJKQZ0CTXZTNWK2L9HTFERE8SJ7NU3YLAAJI46W5798L9SE4')\n",
    "#Create AliceBlue Object, once you have your access_token\n",
    "#Get master contracts\n",
    "alice = AliceBlue(username='AB063479', password='Ajay143', access_token=access_token\n",
    "                  ,master_contracts_to_download=['NSE','NFO','BSE'])"
   ]
  },
  {
   "cell_type": "code",
   "execution_count": 5,
   "metadata": {},
   "outputs": [],
   "source": [
    "ltp = 0\n",
    "socket_opened = False\n",
    "\n",
    "def event_handler_quote_update(message):\n",
    "    global ltp\n",
    "    ltp = message['ltp']\n",
    "\n",
    "def open_callback():\n",
    "    global socket_opened\n",
    "    socket_opened = True"
   ]
  },
  {
   "cell_type": "code",
   "execution_count": 6,
   "metadata": {},
   "outputs": [],
   "source": [
    "socket_opened = False\n",
    "alice.start_websocket(subscribe_callback=event_handler_quote_update,\n",
    "                      socket_open_callback=open_callback,\n",
    "                      run_in_background=True)\n",
    "while(socket_opened==False):    # wait till socket open & then subscribe\n",
    "    pass"
   ]
  },
  {
   "cell_type": "code",
   "execution_count": 7,
   "metadata": {},
   "outputs": [
    {
     "name": "stdout",
     "output_type": "stream",
     "text": [
      "Please enter the distance value from strike200\n",
      "Please enter instrument symbol or token number of instrument26000\n"
     ]
    }
   ],
   "source": [
    "distance_from_strike = int(input(\"Please enter the distance value from strike\"))\n",
    "underlying_instrument = str(input(\"Please enter instrument symbol or token number of instrument\"))"
   ]
  },
  {
   "cell_type": "code",
   "execution_count": 8,
   "metadata": {},
   "outputs": [],
   "source": [
    "ins_script = alice.get_instrument_by_token('NSE',26000)\n",
    "alice.subscribe(ins_script, LiveFeedType.COMPACT)"
   ]
  },
  {
   "cell_type": "code",
   "execution_count": 9,
   "metadata": {},
   "outputs": [],
   "source": [
    "one_minute_ltp = []\n",
    "while(True):\n",
    "    if datetime.datetime.today().second % 5 == 0:\n",
    "        if len(one_minute_ltp) <= 10:\n",
    "            one_minute_ltp.append(ltp)\n",
    "        else:\n",
    "            one_minute_ltp.pop()\n",
    "    elif len(one_minute_ltp) == 10:\n",
    "        break"
   ]
  },
  {
   "cell_type": "code",
   "execution_count": 18,
   "metadata": {},
   "outputs": [],
   "source": [
    "underlying_instrument_ltp = 11202\n",
    "#(one_minute_ltp[0] + one_minute_ltp[1] + one_minute_ltp[2]) / 3"
   ]
  },
  {
   "cell_type": "code",
   "execution_count": 19,
   "metadata": {},
   "outputs": [],
   "source": [
    "rem = underlying_instrument_ltp % 50\n",
    "if rem % 50 <= 25:\n",
    "    underlying_instrument_value = underlying_instrument_ltp - rem\n",
    "else:\n",
    "    underlying_instrument_value = underlying_instrument_ltp - rem + 50"
   ]
  },
  {
   "cell_type": "code",
   "execution_count": 27,
   "metadata": {},
   "outputs": [
    {
     "ename": "TypeError",
     "evalue": "'getset_descriptor' object is not callable",
     "output_type": "error",
     "traceback": [
      "\u001b[1;31m---------------------------------------------------------------------------\u001b[0m",
      "\u001b[1;31mTypeError\u001b[0m                                 Traceback (most recent call last)",
      "\u001b[1;32m<ipython-input-27-81eb8f017493>\u001b[0m in \u001b[0;36m<module>\u001b[1;34m\u001b[0m\n\u001b[0;32m      4\u001b[0m \u001b[1;33m\u001b[0m\u001b[0m\n\u001b[0;32m      5\u001b[0m \u001b[1;31m#Instrument selection_2\u001b[0m\u001b[1;33m\u001b[0m\u001b[1;33m\u001b[0m\u001b[1;33m\u001b[0m\u001b[0m\n\u001b[1;32m----> 6\u001b[1;33m \u001b[0mdatetime\u001b[0m\u001b[1;33m.\u001b[0m\u001b[0mtime\u001b[0m\u001b[1;33m.\u001b[0m\u001b[0mhour\u001b[0m\u001b[1;33m(\u001b[0m\u001b[1;33m)\u001b[0m\u001b[1;33m\u001b[0m\u001b[1;33m\u001b[0m\u001b[0m\n\u001b[0m",
      "\u001b[1;31mTypeError\u001b[0m: 'getset_descriptor' object is not callable"
     ]
    }
   ],
   "source": [
    "#Instrument_Selection_General\n",
    "distance_from_strike = 300\n",
    "OTMCall = underlying_instrument_value + distance_from_strike\n",
    "OTMPut = underlying_instrument_value - distance_from_strike\n",
    "\n",
    "#Instrument selection_T0\n",
    "if(datetime<9.20.00):\n",
    "    distance_from_strike=200\n",
    "elif((datetime>=9.20.00) and (date_time<11.15)):\n",
    "    distance_from_strike=150\n",
    "elif(datetime>=11.15):\n",
    "    distance_from_strike=100\n",
    "    \n",
    "OTMCall = underlying_instrument_value + distance_from_strike\n",
    "OTMPut = underlying_instrument_value - distance_from_strike    \n",
    "    "
   ]
  },
  {
   "cell_type": "code",
   "execution_count": 23,
   "metadata": {},
   "outputs": [],
   "source": [
    "#TrendSelling_with_Renko\n",
    "interval = 25\n",
    "reference = underlying_instrument_ltp-(underlying_instrument_ltp%interval)\n",
    "\n",
    "step = underlying_instrument_ltp - reference\n",
    "\n",
    "if(abs(step)>interval and step>0):\n",
    "    green_brick=1\n",
    "    sell_signal(OTMPut)\n",
    "elif (abs(step)>2*interval and step<0):\n",
    "    green_brick=0\n",
    "    sell_signal(OTMCall)\n"
   ]
  },
  {
   "cell_type": "code",
   "execution_count": 24,
   "metadata": {},
   "outputs": [
    {
     "name": "stdout",
     "output_type": "stream",
     "text": [
      "11200\n",
      "11202\n",
      "2\n"
     ]
    }
   ],
   "source": []
  },
  {
   "cell_type": "code",
   "execution_count": null,
   "metadata": {},
   "outputs": [],
   "source": []
  }
 ],
 "metadata": {
  "kernelspec": {
   "display_name": "Python 3",
   "language": "python",
   "name": "python3"
  },
  "language_info": {
   "codemirror_mode": {
    "name": "ipython",
    "version": 3
   },
   "file_extension": ".py",
   "mimetype": "text/x-python",
   "name": "python",
   "nbconvert_exporter": "python",
   "pygments_lexer": "ipython3",
   "version": "3.7.3"
  }
 },
 "nbformat": 4,
 "nbformat_minor": 2
}
