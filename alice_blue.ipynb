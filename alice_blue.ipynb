{
 "cells": [
  {
   "cell_type": "code",
   "execution_count": null,
   "metadata": {},
   "outputs": [],
   "source": [
    "#Logging\n",
    "#The whole library is equipped with python's logging moduele for debugging. \n",
    "#If more debug information is needed, enable logging using the following code.\n",
    "\n",
    "import pandas as pd\n",
    "#import logging\n",
    "#logging.basicConfig(level=logging.DEBUG)\n",
    "import datetime\n",
    "from alice_blue import *"
   ]
  },
  {
   "cell_type": "code",
   "execution_count": null,
   "metadata": {
    "scrolled": true
   },
   "outputs": [],
   "source": [
    "#Get an access token\n",
    "access_token = AliceBlue.login_and_get_access_token(username='AB063479', password='Ajay143', \n",
    "                                                    twoFA='act',  \n",
    "                                                    api_secret=\n",
    "                                                    'V9TWAT51FBBN5MKTFJKQZ0CTXZTNWK2L9HTFERE8SJ7NU3YLAAJI46W5798L9SE4')"
   ]
  },
  {
   "cell_type": "code",
   "execution_count": null,
   "metadata": {},
   "outputs": [],
   "source": [
    "#Create AliceBlue Object, once you have your access_token\n",
    "alice = AliceBlue(username='AB063479', password='Ajay143', access_token=access_token)"
   ]
  },
  {
   "cell_type": "code",
   "execution_count": null,
   "metadata": {},
   "outputs": [],
   "source": [
    "#Run below commands here to check your connectivity\n",
    "print(alice.get_balance()) # get balance / margin limits\n",
    "#print(alice.get_profile()) # get profile\n",
    "#print(alice.get_daywise_positions()) # get daywise positions\n",
    "#print(alice.get_netwise_positions()) # get netwise positions\n",
    "#print(alice.get_holding_positions()) # get holding positions"
   ]
  },
  {
   "cell_type": "code",
   "execution_count": null,
   "metadata": {},
   "outputs": [],
   "source": [
    "#Get master contracts\n",
    "alice = AliceBlue(username='AB063479', password='Ajay143', access_token=access_token\n",
    "                  , master_contracts_to_download=['NSE','NFO','BSE'])"
   ]
  },
  {
   "cell_type": "markdown",
   "metadata": {},
   "source": [
    "#Get tradable instruments\n",
    "tatasteel_nse_eq = alice.get_instrument_by_symbol('NSE', 'TATASTEEL')\n",
    "reliance_nse_eq = alice.get_instrument_by_symbol('NSE', 'RELIANCE')\n",
    "india_vix_nse_index = alice.get_instrument_by_symbol('NSE', 'India VIX')\n",
    "\n",
    "print(tatasteel_nse_eq)\n",
    "\n",
    "bn_fut = alice.get_instrument_for_fno(symbol = 'BANKNIFTY', expiry_date=datetime.date(2020, 7, 27), is_fut=True, strike=None, is_CE = False)\n",
    "bn_call = alice.get_instrument_for_fno(symbol = 'BANKNIFTY', expiry_date=datetime.date(2019, 7, 6), is_fut=False, strike=22000, is_CE = True)\n",
    "bn_put = alice.get_instrument_for_fno(symbol = 'BANKNIFTY', expiry_date=datetime.date(2019, 7, 6), is_fut=False, strike=22000, is_CE = False)"
   ]
  },
  {
   "cell_type": "code",
   "execution_count": null,
   "metadata": {},
   "outputs": [],
   "source": [
    "#Search for multiple instruments by matching multiple names\n",
    "all_scripts = alice.search_instruments('NFO', ['Banknifty','Nifty'])\n",
    "\n",
    "symbol = []\n",
    "expiry = []\n",
    "lot_size = []\n",
    "token = []\n",
    "for i in all_scripts:\n",
    "    symbol.append(i.symbol)\n",
    "    expiry.append(i.expiry)\n",
    "    lot_size.append(i.lot_size)\n",
    "    token.append(i.token)\n",
    "    \n",
    "dic_ = {'symbol':symbol,'expiry':expiry,'lot_size':lot_size,'token':token}\n",
    "pd.DataFrame.from_dict(dic_).to_csv('instruments_list.csv',index=False)"
   ]
  },
  {
   "cell_type": "markdown",
   "metadata": {},
   "source": [
    "Instrument = namedtuple('NIFTY AUG FUT', ['NFO', '51845', 'BANKNIFTY 1 OCT20 18600 CE','', datetime.date(2020, 10, 1), '25'])\n",
    "\n",
    "#Format below\n",
    "#Instrument = namedtuple('Instrument', ['exchange', 'token', 'symbol','name', 'expiry', 'lot_size'])\n",
    "\n",
    "#All instruments have the fields mentioned above. Wherever a field is not applicable for an instrument \n",
    "#(for example, equity instruments don't have strike prices), that value will be None"
   ]
  },
  {
   "cell_type": "code",
   "execution_count": null,
   "metadata": {},
   "outputs": [],
   "source": [
    "ltp = 0\n",
    "socket_opened = False\n",
    "\n",
    "def event_handler_quote_update(message):\n",
    "    global ltp\n",
    "    ltp = message['ltp']\n",
    "\n",
    "def open_callback():\n",
    "    global socket_opened\n",
    "    socket_opened = True"
   ]
  },
  {
   "cell_type": "code",
   "execution_count": null,
   "metadata": {},
   "outputs": [],
   "source": [
    "socket_opened = False\n",
    "alice.start_websocket(subscribe_callback=event_handler_quote_update,\n",
    "                      socket_open_callback=open_callback,\n",
    "                      run_in_background=True)\n",
    "while(socket_opened==False):    # wait till socket open & then subscribe\n",
    "    pass"
   ]
  },
  {
   "cell_type": "code",
   "execution_count": null,
   "metadata": {},
   "outputs": [],
   "source": [
    "ins_scrip = alice.get_instrument_by_symbol('NSE', 'INFY')\n",
    "alice.subscribe(ins_scrip, LiveFeedType.COMPACT)\n",
    "\n",
    "ltp"
   ]
  },
  {
   "cell_type": "code",
   "execution_count": null,
   "metadata": {},
   "outputs": [],
   "source": [
    "u = alice.get_instrument_by_token('NFO',42087)\n",
    "alice.subscribe(u, LiveFeedType.COMPACT)\n",
    "\n",
    "ltp"
   ]
  }
 ],
 "metadata": {
  "kernelspec": {
   "display_name": "Python 3",
   "language": "python",
   "name": "python3"
  },
  "language_info": {
   "codemirror_mode": {
    "name": "ipython",
    "version": 3
   },
   "file_extension": ".py",
   "mimetype": "text/x-python",
   "name": "python",
   "nbconvert_exporter": "python",
   "pygments_lexer": "ipython3",
   "version": "3.7.3"
  }
 },
 "nbformat": 4,
 "nbformat_minor": 2
}
