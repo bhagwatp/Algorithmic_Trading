{
 "cells": [
  {
   "cell_type": "code",
   "execution_count": null,
   "metadata": {},
   "outputs": [],
   "source": [
    "import pandas as pd"
   ]
  },
  {
   "cell_type": "code",
   "execution_count": null,
   "metadata": {},
   "outputs": [],
   "source": [
    "from kiteconnect import KiteConnect \n",
    "kite = KiteConnect(api_key=\"XXXXX\")"
   ]
  },
  {
   "cell_type": "code",
   "execution_count": null,
   "metadata": {},
   "outputs": [],
   "source": [
    "print(kite.login_url())"
   ]
  },
  {
   "cell_type": "code",
   "execution_count": null,
   "metadata": {},
   "outputs": [],
   "source": [
    "data = kite.generate_session(\"XXXXX\", api_secret=\"XXXXX\")\n",
    "kite.set_access_token(data[\"access_token\"])"
   ]
  },
  {
   "cell_type": "code",
   "execution_count": null,
   "metadata": {},
   "outputs": [],
   "source": [
    "# Gets historical data from Kite Connect\n",
    "def get_historical_data():\n",
    "    \"\"\"\n",
    "    Implementation of the moving average strategy.\n",
    "    We go through the historical records that \n",
    "    we received form Kite Connect, calculate moving average,\n",
    "    and place a BUY or SELL order.\n",
    "    \"\"\"\n",
    "    return kite.historical_data(instrument_token, from_date, to_date, interval)"
   ]
  },
  {
   "cell_type": "code",
   "execution_count": null,
   "metadata": {},
   "outputs": [],
   "source": [
    "# Instrument token of nifty\n",
    "instrument_token = \"256265\" \n",
    "\n",
    "# Dates between which we need historical data\n",
    "from_date = \"2020-06-01\"\n",
    "to_date = \"2020-08-30\"\n",
    "\n",
    "# Interval(minute, day, 3 minute, 5 minute...)\n",
    "interval = \"5minute\""
   ]
  },
  {
   "cell_type": "code",
   "execution_count": null,
   "metadata": {},
   "outputs": [],
   "source": [
    "records = get_historical_data()\n",
    "hist_df = pd.DataFrame(records)"
   ]
  },
  {
   "cell_type": "code",
   "execution_count": null,
   "metadata": {},
   "outputs": [],
   "source": [
    "pd.set_option('display.max_rows', 1000)"
   ]
  },
  {
   "cell_type": "code",
   "execution_count": null,
   "metadata": {},
   "outputs": [],
   "source": [
    "distance_from_strike = int(input(\"Please enter the distance value from strike\"))\n",
    "underlying_instrument = str(input(\"Please enter instrument symbol or token number of instrument\"))\n",
    "instrument_expiry_date = str(input(\"please enter instruement expiry date e.g: mdd(use 0-9,O,M,D) and if month end then mmm\"))"
   ]
  },
  {
   "cell_type": "code",
   "execution_count": null,
   "metadata": {},
   "outputs": [],
   "source": [
    "ltp = kite.ltp(['NSE:NIFTY 50'])\n",
    "underlying_instrument_ltp = ltp['NSE:NIFTY 50']['last_price']"
   ]
  },
  {
   "cell_type": "code",
   "execution_count": null,
   "metadata": {},
   "outputs": [],
   "source": [
    "rem = underlying_instrument_ltp % 50\n",
    "if rem % 50 <= 25:\n",
    "    underlying_instrument_value = underlying_instrument_ltp - rem\n",
    "else:\n",
    "    underlying_instrument_value = underlying_instrument_ltp - rem + 50"
   ]
  },
  {
   "cell_type": "code",
   "execution_count": null,
   "metadata": {},
   "outputs": [],
   "source": [
    "underlying_instrument_ltp,underlying_instrument_value"
   ]
  },
  {
   "cell_type": "code",
   "execution_count": null,
   "metadata": {},
   "outputs": [],
   "source": [
    "OTMCall = underlying_instrument_value + distance_from_strike\n",
    "OTMPut = underlying_instrument_value - distance_from_strike"
   ]
  },
  {
   "cell_type": "code",
   "execution_count": null,
   "metadata": {},
   "outputs": [],
   "source": [
    "OTMCall,OTMPut"
   ]
  },
  {
   "cell_type": "code",
   "execution_count": null,
   "metadata": {},
   "outputs": [],
   "source": [
    "OTMCall_ins_symbol = underlying_instrument +'20' + instrument_expiry_date + str(int(OTMCall)) +'CE'\n",
    "OTMPut_ins_symbol = underlying_instrument+'20' + instrument_expiry_date + str(int(OTMPut)) +'PE'"
   ]
  },
  {
   "cell_type": "code",
   "execution_count": null,
   "metadata": {},
   "outputs": [],
   "source": [
    "kite.ltp(['NFO:' + OTMCall_ins_symbol,'NFO:' + OTMPut_ins_symbol])"
   ]
  },
  {
   "cell_type": "code",
   "execution_count": null,
   "metadata": {},
   "outputs": [],
   "source": [
    "underlying_instrument_ltp"
   ]
  },
  {
   "cell_type": "code",
   "execution_count": null,
   "metadata": {},
   "outputs": [],
   "source": [
    "interval = 100\n",
    "reference = 9700\n",
    "sig = []\n",
    "ref = []\n",
    "is_green_brick = 1"
   ]
  },
  {
   "cell_type": "markdown",
   "metadata": {},
   "source": [
    "#TrendSelling_with_Renko\n",
    "for underlying_instrument_ltp in hist_df['close']:\n",
    "\n",
    "    step = underlying_instrument_ltp - reference\n",
    "\n",
    "    if(abs(step) > interval and step > 0) and (green_brick == 1):\n",
    "        reference = underlying_instrument_ltp - (underlying_instrument_ltp % interval)\n",
    "        green_brick = 1\n",
    "        sig.append(\"put\")\n",
    "        ref.append(reference)\n",
    "    elif (abs(step) > 2 * interval and step < 0):\n",
    "        reference = underlying_instrument_ltp - (underlying_instrument_ltp % interval) + 125\n",
    "        green_brick = 0\n",
    "        sig.append(\"call\")\n",
    "        ref.append(reference)\n",
    "    else:\n",
    "        sig.append(\"No decision\")\n",
    "        ref.append(reference)"
   ]
  },
  {
   "cell_type": "code",
   "execution_count": null,
   "metadata": {},
   "outputs": [],
   "source": [
    "#TrendSelling_with_Renko\n",
    "for underlying_instrument_ltp in hist_df['close']:\n",
    "\n",
    "    step = underlying_instrument_ltp - reference\n",
    "\n",
    "    if step >= 100 and is_green_brick == 1:\n",
    "        sig.append(\"green-green\")\n",
    "        reference = underlying_instrument_ltp - (underlying_instrument_ltp % interval)\n",
    "        ref.append(reference)\n",
    "        is_green_brick = 1 \n",
    "    elif step <= -200 and is_green_brick == 1:\n",
    "        reference = underlying_instrument_ltp - (underlying_instrument_ltp % interval) + interval\n",
    "        sig.append(\"green-red\")\n",
    "        ref.append(reference)\n",
    "        is_green_brick = 0\n",
    "    elif step <= -100 and is_green_brick == 0:\n",
    "        sig.append(\"red-red\")\n",
    "        reference = underlying_instrument_ltp - (underlying_instrument_ltp % interval) + interval  \n",
    "        ref.append(reference)\n",
    "        is_green_brick = 0\n",
    "    elif step >= 200 and is_green_brick == 0:\n",
    "        sig.append(\"red-green\")\n",
    "        reference = underlying_instrument_ltp - (underlying_instrument_ltp % interval)\n",
    "        ref.append(reference)\n",
    "        is_green_brick = 1 \n",
    "    else:\n",
    "        sig.append(\"No decision\")\n",
    "        ref.append(reference)"
   ]
  },
  {
   "cell_type": "code",
   "execution_count": null,
   "metadata": {},
   "outputs": [],
   "source": [
    "hist_df['signal'] = sig\n",
    "hist_df['ref'] = ref"
   ]
  },
  {
   "cell_type": "code",
   "execution_count": null,
   "metadata": {},
   "outputs": [],
   "source": [
    "hist_df.to_csv(\"logic.csv\", index=False)"
   ]
  },
  {
   "cell_type": "code",
   "execution_count": null,
   "metadata": {},
   "outputs": [],
   "source": []
  }
 ],
 "metadata": {
  "kernelspec": {
   "display_name": "Python 3",
   "language": "python",
   "name": "python3"
  },
  "language_info": {
   "codemirror_mode": {
    "name": "ipython",
    "version": 3
   },
   "file_extension": ".py",
   "mimetype": "text/x-python",
   "name": "python",
   "nbconvert_exporter": "python",
   "pygments_lexer": "ipython3",
   "version": "3.7.3"
  }
 },
 "nbformat": 4,
 "nbformat_minor": 2
}
