{
 "cells": [
  {
   "cell_type": "code",
   "execution_count": 39,
   "metadata": {},
   "outputs": [],
   "source": [
    "import pandas as pd\n",
    "import datetime\n",
    "from alice_blue import *"
   ]
  },
  {
   "cell_type": "code",
   "execution_count": 40,
   "metadata": {},
   "outputs": [],
   "source": [
    "#Get an access token\n",
    "access_token = AliceBlue.login_and_get_access_token(username='AB063479', password='Ajay143', \n",
    "                                                    twoFA='act',\n",
    "                                                    api_secret=\n",
    "                                                    'V9TWAT51FBBN5MKTFJKQZ0CTXZTNWK2L9HTFERE8SJ7NU3YLAAJI46W5798L9SE4')\n",
    "#Create AliceBlue Object, once you have your access_token\n",
    "#Get master contracts\n",
    "alice = AliceBlue(username='AB063479', password='Ajay143', access_token=access_token\n",
    "                  ,master_contracts_to_download=['NSE','NFO','BSE'])"
   ]
  },
  {
   "cell_type": "code",
   "execution_count": 42,
   "metadata": {},
   "outputs": [],
   "source": [
    "ltp = 0\n",
    "socket_opened = False\n",
    "\n",
    "def event_handler_quote_update(message):\n",
    "    global ltp\n",
    "    ltp = message['ltp']\n",
    "\n",
    "def open_callback():\n",
    "    global socket_opened\n",
    "    socket_opened = True"
   ]
  },
  {
   "cell_type": "code",
   "execution_count": 43,
   "metadata": {},
   "outputs": [],
   "source": [
    "socket_opened = False\n",
    "alice.start_websocket(subscribe_callback=event_handler_quote_update,\n",
    "                      socket_open_callback=open_callback,\n",
    "                      run_in_background=True)\n",
    "while(socket_opened==False):    # wait till socket open & then subscribe\n",
    "    pass"
   ]
  },
  {
   "cell_type": "code",
   "execution_count": 2,
   "metadata": {},
   "outputs": [
    {
     "name": "stdout",
     "output_type": "stream",
     "text": [
      "Please enter the distance value from strike300\n",
      "Please enter instrument symbol or token number of instrumentNIFTY\n"
     ]
    }
   ],
   "source": [
    "distance_from_strike = int(input(\"Please enter the distance value from strike\"))\n",
    "underlying_instrument = str(input(\"Please enter instrument symbol or token number of instrument\"))"
   ]
  },
  {
   "cell_type": "code",
   "execution_count": 54,
   "metadata": {},
   "outputs": [],
   "source": [
    "ins_script = alice.get_instrument_by_token('NSE',26000)\n",
    "alice.subscribe(ins_script, LiveFeedType.COMPACT)"
   ]
  },
  {
   "cell_type": "code",
   "execution_count": 74,
   "metadata": {},
   "outputs": [],
   "source": [
    "one_minute_ltp = []\n",
    "while(True):\n",
    "    if datetime.datetime.today().second % 5 == 0:\n",
    "        if len(one_minute_ltp) <= 10:\n",
    "            one_minute_ltp.append(ltp)\n",
    "        else:\n",
    "            one_minute_ltp.pop()\n",
    "    elif len(one_minute_ltp) == 10:\n",
    "        break"
   ]
  },
  {
   "cell_type": "code",
   "execution_count": 83,
   "metadata": {},
   "outputs": [],
   "source": [
    "underlying_instrument_ltp = (one_minute_ltp[0] + one_minute_ltp[1] + one_minute_ltp[2]) / 3"
   ]
  },
  {
   "cell_type": "code",
   "execution_count": 85,
   "metadata": {},
   "outputs": [],
   "source": [
    "rem = underlying_instrument_ltp % 50\n",
    "if rem % 50 <= 25:\n",
    "    underlying_instrument_value = underlying_instrument_ltp - rem\n",
    "else:\n",
    "    underlying_instrument_value = underlying_instrument_ltp - rem + 50"
   ]
  },
  {
   "cell_type": "code",
   "execution_count": 86,
   "metadata": {},
   "outputs": [],
   "source": [
    "OTMCall = underlying_instrument_value + 300\n",
    "OTMPut = underlying_instrument_value - 300"
   ]
  },
  {
   "cell_type": "code",
   "execution_count": 81,
   "metadata": {},
   "outputs": [],
   "source": [
    "previous_OTMs = (OTMCall,OTMPut)"
   ]
  },
  {
   "cell_type": "code",
   "execution_count": 87,
   "metadata": {},
   "outputs": [
    {
     "data": {
      "text/plain": [
       "(11500.0, 10900.0)"
      ]
     },
     "execution_count": 87,
     "metadata": {},
     "output_type": "execute_result"
    }
   ],
   "source": [
    "previous_OTMs"
   ]
  },
  {
   "cell_type": "code",
   "execution_count": 82,
   "metadata": {},
   "outputs": [
    {
     "data": {
      "text/plain": [
       "(11500.0, 10900.0)"
      ]
     },
     "execution_count": 82,
     "metadata": {},
     "output_type": "execute_result"
    }
   ],
   "source": [
    "if curr_OTMS != previous_OTMs:\n",
    "    buy_signal on prevoius OTMS\n",
    "    sell signal on current OTMS"
   ]
  }
 ],
 "metadata": {
  "kernelspec": {
   "display_name": "Python 3",
   "language": "python",
   "name": "python3"
  },
  "language_info": {
   "codemirror_mode": {
    "name": "ipython",
    "version": 3
   },
   "file_extension": ".py",
   "mimetype": "text/x-python",
   "name": "python",
   "nbconvert_exporter": "python",
   "pygments_lexer": "ipython3",
   "version": "3.7.3"
  }
 },
 "nbformat": 4,
 "nbformat_minor": 2
}
