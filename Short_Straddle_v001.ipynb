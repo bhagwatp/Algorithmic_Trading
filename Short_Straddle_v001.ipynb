{
 "cells": [
  {
   "cell_type": "code",
   "execution_count": null,
   "metadata": {},
   "outputs": [],
   "source": [
    "import pandas as pd\n",
    "import datetime\n",
    "from alice_blue import *"
   ]
  },
  {
   "cell_type": "code",
   "execution_count": null,
   "metadata": {},
   "outputs": [],
   "source": [
    "#Get an access token\n",
    "access_token = AliceBlue.login_and_get_access_token(username='XXXX', password='XXX', \n",
    "                                                    twoFA='act',\n",
    "                                                    api_secret=\n",
    "                                                    'XXXXX')\n",
    "#Create AliceBlue Object, once you have your access_token\n",
    "#Get master contracts\n",
    "alice = AliceBlue(username='XXXX', password='XXXX', access_token=access_token,\n",
    "                  master_contracts_to_download=['NSE','NFO','BSE'])"
   ]
  },
  {
   "cell_type": "code",
   "execution_count": null,
   "metadata": {},
   "outputs": [],
   "source": [
    "ltp = 0\n",
    "socket_opened = False\n",
    "\n",
    "def event_handler_quote_update(message):\n",
    "    global ltp\n",
    "    ltp = message['ltp']\n",
    "\n",
    "def open_callback():\n",
    "    global socket_opened\n",
    "    socket_opened = True"
   ]
  },
  {
   "cell_type": "code",
   "execution_count": null,
   "metadata": {},
   "outputs": [],
   "source": [
    "socket_opened = False\n",
    "alice.start_websocket(subscribe_callback=event_handler_quote_update,\n",
    "                      socket_open_callback=open_callback,\n",
    "                      run_in_background=True)\n",
    "while(socket_opened==False):    # wait till socket open & then subscribe\n",
    "    pass"
   ]
  },
  {
   "cell_type": "code",
   "execution_count": null,
   "metadata": {},
   "outputs": [],
   "source": [
    "distance_from_strike = int(input(\"Please enter the distance value from strike\"))\n",
    "underlying_instrument = str(input(\"Please enter instrument symbol or token number of instrument (enter in Capitals)\"))\n",
    "instrument_expiry_date = str(input(\"please enter instruement expiry date\"))"
   ]
  },
  {
   "cell_type": "code",
   "execution_count": null,
   "metadata": {},
   "outputs": [],
   "source": [
    "def get_nse_ltp(ins_token):\n",
    "    ins_script = alice.get_instrument_by_token('NSE',ins_token)\n",
    "    alice.subscribe(ins_script, LiveFeedType.COMPACT)\n",
    "    alice.unsubscribe(ins_script,LiveFeedType.COMPACT)\n",
    "    return ltp\n",
    "\n",
    "def get_nfo_ltp(ins_symbol):\n",
    "    ins_script = alice.get_instrument_by_symbol('NFO',ins_symbol)\n",
    "    alice.subscribe(ins_script, LiveFeedType.COMPACT)\n",
    "    alice.unsubscribe(ins_script,LiveFeedType.COMPACT)\n",
    "    return ltp"
   ]
  },
  {
   "cell_type": "code",
   "execution_count": null,
   "metadata": {},
   "outputs": [],
   "source": [
    "OTMCall = underlying_instrument_value + 300\n",
    "OTMPut = underlying_instrument_value - 300\n",
    "\n",
    "OTMCall_ins_symbol = underlying_instrument + ' ' + instrument_expiry_date + ' ' + str(OTMCall) +' CE'\n",
    "OTMPut_ins_symbol = underlying_instrument + ' ' + instrument_expiry_date + ' ' + str(OTMPut) +' PE'"
   ]
  },
  {
   "cell_type": "code",
   "execution_count": null,
   "metadata": {},
   "outputs": [],
   "source": [
    "ins_script = alice.get_instrument_by_symbol('NFO',OTMPut_ins_symbol)\n",
    "alice.subscribe(ins_script, LiveFeedType.COMPACT)\n",
    "alice.unsubscribe(ins_script,LiveFeedType.COMPACT)"
   ]
  },
  {
   "cell_type": "code",
   "execution_count": null,
   "metadata": {},
   "outputs": [],
   "source": [
    "nifty_ltp = get_nse_ltp(26000)"
   ]
  },
  {
   "cell_type": "code",
   "execution_count": null,
   "metadata": {
    "scrolled": true
   },
   "outputs": [],
   "source": [
    "one_minute_ltp = []\n",
    "\n",
    "previous_OTMCall = 0.0\n",
    "previous_OTMPut = 0.0\n",
    "count = 0\n",
    "while(True):\n",
    "    if datetime.datetime.today().second % 5 == 0:\n",
    "        if len(one_minute_ltp) <= 10:\n",
    "            one_minute_ltp.append(nifty_ltp)\n",
    "        else:\n",
    "            one_minute_ltp.pop()\n",
    "    \n",
    "    if len(one_minute_ltp) > 4:       \n",
    "        underlying_instrument_ltp = (one_minute_ltp[0] + one_minute_ltp[1] + one_minute_ltp[2]) / 3\n",
    "\n",
    "        rem = underlying_instrument_ltp % 50\n",
    "        if rem % 50 <= 25:\n",
    "            underlying_instrument_value = underlying_instrument_ltp - rem\n",
    "        else:\n",
    "            underlying_instrument_value = underlying_instrument_ltp - rem + 50\n",
    "\n",
    "        OTMCall = underlying_instrument_value + 300\n",
    "        OTMPut = underlying_instrument_value - 300\n",
    "        \n",
    "        OTMCall_ins_symbol = underlying_instrument + ' ' + instrument_expiry_date + ' ' + str(OTMCall) +' CE'\n",
    "        OTMPut_ins_symbol = underlying_instrument + ' ' + instrument_expiry_date + ' ' + str(OTMPut) +' PE'\n",
    "        \n",
    "        otmcall_ltp = get_nfo_ltp(OTMCall_ins_symbol)\n",
    "        \n",
    "        otmput_ltp = get_nfo_ltp(OTMPut_ins_symbol)\n",
    "        \n",
    "        hour = datetime.datetime.today().hour\n",
    "        minute = datetime.datetime.today().minute\n",
    "\n",
    "        if ((hour == 17  and minute == 59) and (count == 0)):\n",
    "            print(datetime.datetime.today(),\"OTMCall :\" +str(OTMCall),\"OTMPut :\" +str(OTMPut),\"LTP : \" + str(nifty_ltp),\n",
    "                  \"otmcall_ltp : \" +str(otmcall_ltp),\"otmput_ltp : \" +str(otmput_ltp),\"Sell signal\")\n",
    "            previous_OTMCall = OTMCall\n",
    "            previous_OTMPut = OTMPut\n",
    "            count = count + 1\n",
    "\n",
    "        elif(((OTMCall != previous_OTMCall) or (OTMPut != previous_OTMPut)) and (count == 1)) :\n",
    "\n",
    "            previous_OTMCall = OTMCall\n",
    "            previous_OTMPut = OTMPut\n",
    "            print(datetime.datetime.today(),\"OTMCall :\" +str(OTMCall),\"OTMPut :\" +str(OTMPut),\"LTP : \" + str(nifty_ltp),\n",
    "                  \"otmcall_ltp : \" +str(otmcall_ltp),\"otmput_ltp : \" +str(otmput_ltp),\"buy_signal on prevoius OTMS\")\n",
    "            print(datetime.datetime.today(),\"OTMCall :\" +str(OTMCall),\"OTMPut :\" +str(OTMPut),\"LTP : \" + str(nifty_ltp),\n",
    "                  \"otmcall_ltp : \" +str(otmcall_ltp),\"otmput_ltp : \" +str(otmput_ltp),\"sell signal on current OTMS\")\n",
    "    if datetime.datetime.today().minute == 0:\n",
    "        break"
   ]
  },
  {
   "cell_type": "code",
   "execution_count": null,
   "metadata": {},
   "outputs": [],
   "source": []
  }
 ],
 "metadata": {
  "kernelspec": {
   "display_name": "Python 3",
   "language": "python",
   "name": "python3"
  },
  "language_info": {
   "codemirror_mode": {
    "name": "ipython",
    "version": 3
   },
   "file_extension": ".py",
   "mimetype": "text/x-python",
   "name": "python",
   "nbconvert_exporter": "python",
   "pygments_lexer": "ipython3",
   "version": "3.7.3"
  }
 },
 "nbformat": 4,
 "nbformat_minor": 2
}
