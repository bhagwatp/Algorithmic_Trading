{
 "cells": [
  {
   "cell_type": "markdown",
   "metadata": {},
   "source": [
    "### Import required libraries"
   ]
  },
  {
   "cell_type": "code",
   "execution_count": null,
   "metadata": {},
   "outputs": [],
   "source": [
    "import requests\n",
    "import numpy as np\n",
    "import pandas as pd\n",
    "from datetime import datetime\n",
    "import matplotlib.pyplot as plt"
   ]
  },
  {
   "cell_type": "markdown",
   "metadata": {},
   "source": [
    "### Download file "
   ]
  },
  {
   "cell_type": "code",
   "execution_count": null,
   "metadata": {},
   "outputs": [],
   "source": [
    "print(\"downloading the data file from api.\")\n",
    "url_link = \"https://storage.googleapis.com/zalora-interview-data/bitstampUSD_1-min_data_2012-01-01_to_2020-09-14.csv\"\n",
    "\n",
    "req = requests.get(url_link)\n",
    "url_content = req.content\n",
    "\n",
    "csv_file = open('bitstampUSD_1-min_data_2012-01-01_to_2020-09-14.csv', 'wb')\n",
    "\n",
    "csv_file.write(url_content)\n",
    "csv_file.close()\n",
    "print(\"data file download complete\")"
   ]
  },
  {
   "cell_type": "markdown",
   "metadata": {},
   "source": [
    "### Read file in pandas dataframe"
   ]
  },
  {
   "cell_type": "code",
   "execution_count": null,
   "metadata": {},
   "outputs": [],
   "source": [
    "data_df = pd.read_csv(\"bitstampUSD_1-min_data_2012-01-01_to_2020-09-14.csv\")\n",
    "\n",
    "print(data_df.shape)"
   ]
  },
  {
   "cell_type": "code",
   "execution_count": null,
   "metadata": {},
   "outputs": [],
   "source": [
    "# convert integer timestamp into date time format\n",
    "\n",
    "data_df['timestamp'] = pd.to_datetime(data_df.Timestamp, unit='s')"
   ]
  },
  {
   "cell_type": "code",
   "execution_count": null,
   "metadata": {},
   "outputs": [],
   "source": [
    "# filter the data before '2012-01-01'\n",
    "\n",
    "df = data_df[data_df['timestamp'] >= datetime.strptime('2012-01-01','%Y-%m-%d')]"
   ]
  },
  {
   "cell_type": "code",
   "execution_count": null,
   "metadata": {},
   "outputs": [],
   "source": [
    "# records that are of before '2012-01-01'\n",
    "\n",
    "data_df.shape[0] - df.shape[0]"
   ]
  },
  {
   "cell_type": "code",
   "execution_count": null,
   "metadata": {},
   "outputs": [],
   "source": [
    "df['dates'] = df['timestamp'].dt.date"
   ]
  },
  {
   "cell_type": "code",
   "execution_count": null,
   "metadata": {},
   "outputs": [],
   "source": [
    "df = df[['dates','Weighted_Price']]\n",
    "\n",
    "moving_avg = df.groupby(['dates']).mean()"
   ]
  },
  {
   "cell_type": "markdown",
   "metadata": {},
   "source": [
    "### Simple moving average (SMA)"
   ]
  },
  {
   "cell_type": "markdown",
   "metadata": {},
   "source": [
    "A moving average, also called as rolling average or running average is a used to analyze the time-series data by calculating a series of averages of the different subsets of full dataset.\n",
    "\n",
    "The simple moving average = (sum of the an asset price over the past n periods) / (number of periods)"
   ]
  },
  {
   "cell_type": "code",
   "execution_count": null,
   "metadata": {},
   "outputs": [],
   "source": [
    "moving_avg['50_SMA'] = moving_avg['Weighted_Price'].rolling(window=50, min_periods=1).mean()\n",
    "moving_avg['100_SMA'] = moving_avg['Weighted_Price'].rolling(window=100, min_periods=1).mean()"
   ]
  },
  {
   "cell_type": "markdown",
   "metadata": {},
   "source": [
    "In our existing pandas dataframe, created a new column ‘Signal’ such that if 50-day SMA is greater than 100-day SMA then set Signal value as 1 else when 100-day SMA is greater than 50-day SMA then set it’s value as 0."
   ]
  },
  {
   "cell_type": "code",
   "execution_count": null,
   "metadata": {},
   "outputs": [],
   "source": [
    "moving_avg['signal'] = 0.0\n",
    "moving_avg['signal'] = np.where(moving_avg['50_SMA'] > moving_avg['100_SMA'], 1.0, 0.0)"
   ]
  },
  {
   "cell_type": "markdown",
   "metadata": {},
   "source": [
    "From these ‘Signal’ values, the position orders can be generated to represent trading signals. Crossover happens when the faster moving average and the slower moving average cross"
   ]
  },
  {
   "cell_type": "code",
   "execution_count": null,
   "metadata": {},
   "outputs": [],
   "source": [
    "moving_avg['position'] = moving_avg['signal'].diff()"
   ]
  },
  {
   "cell_type": "markdown",
   "metadata": {},
   "source": [
    "#### plot the graph to see buying and selling signal"
   ]
  },
  {
   "cell_type": "raw",
   "metadata": {},
   "source": [
    "plt.figure(figsize = (20,10))\n",
    "\n",
    "moving_avg['Weighted_Price'].plot(color = 'k', label= 'Weighted Price') \n",
    "moving_avg['50_SMA'].plot(color = 'b',label = '50-day SMA') \n",
    "moving_avg['100_SMA'].plot(color = 'g', label = '100-day SMA')\n",
    "# plot ‘buy’ signals\n",
    "plt.plot(moving_avg[moving_avg['position'] == 1].index, \n",
    "         moving_avg['50_SMA'][moving_avg['position'] == 1], \n",
    "         '^', markersize = 15, color = 'g', label = 'buy')\n",
    "# plot ‘sell’ signals\n",
    "plt.plot(moving_avg[moving_avg['position'] == -1].index, \n",
    "         moving_avg['50_SMA'][moving_avg['position'] == -1], \n",
    "         'v', markersize = 15, color = 'r', label = 'sell')\n",
    "plt.ylabel('Weighted Price', fontsize = 15 )\n",
    "plt.xlabel('Date', fontsize = 15 )\n",
    "plt.title('BITCOIN - SMA Crossover', fontsize = 20)\n",
    "plt.legend()\n",
    "plt.grid()\n",
    "plt.show()"
   ]
  },
  {
   "cell_type": "markdown",
   "metadata": {},
   "source": [
    "### Final output is saved as CSV"
   ]
  },
  {
   "cell_type": "code",
   "execution_count": null,
   "metadata": {
    "scrolled": true
   },
   "outputs": [],
   "source": [
    "buy_signal = moving_avg[(moving_avg['position'] == 1.0)].reset_index()[['dates','Weighted_Price']]\n",
    "buy_signal.columns = ['buying_date', 'buying_price']"
   ]
  },
  {
   "cell_type": "code",
   "execution_count": null,
   "metadata": {},
   "outputs": [],
   "source": [
    "sell_signal = moving_avg[(moving_avg['position'] == -1.0)].reset_index()[['dates','Weighted_Price']]\n",
    "sell_signal.columns = ['selling_date', 'selling_price']"
   ]
  },
  {
   "cell_type": "markdown",
   "metadata": {},
   "source": [
    "### Return on Investment"
   ]
  },
  {
   "cell_type": "markdown",
   "metadata": {},
   "source": [
    "Return on investment is calculated using below formula\n",
    "\n",
    "ROI = ( Net Profit / Cost of the investment ) * 100"
   ]
  },
  {
   "cell_type": "code",
   "execution_count": null,
   "metadata": {},
   "outputs": [],
   "source": [
    "final_df = pd.concat([buy_signal, sell_signal], axis=1)\n",
    "\n",
    "final_df['ROI in %'] = final_df.apply(lambda x: ((x['selling_price'] - x['buying_price']) / x['buying_price']) * 100, axis=1)\n",
    "\n",
    "final_df = final_df.round(2)"
   ]
  },
  {
   "cell_type": "code",
   "execution_count": null,
   "metadata": {},
   "outputs": [],
   "source": [
    "final_df.to_csv(\"results.csv\", header=True, sep=',', index=False)\n",
    "\n",
    "print(\"final result.csv is saved in current running directory.\")"
   ]
  }
 ],
 "metadata": {
  "kernelspec": {
   "display_name": "Python 3",
   "language": "python",
   "name": "python3"
  },
  "language_info": {
   "codemirror_mode": {
    "name": "ipython",
    "version": 3
   },
   "file_extension": ".py",
   "mimetype": "text/x-python",
   "name": "python",
   "nbconvert_exporter": "python",
   "pygments_lexer": "ipython3",
   "version": "3.8.3"
  }
 },
 "nbformat": 4,
 "nbformat_minor": 4
}
